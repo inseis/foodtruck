{
 "cells": [
  {
   "cell_type": "markdown",
   "metadata": {},
   "source": [
    "# Soccer World Cup 2018 Winner"
   ]
  },
  {
   "cell_type": "code",
   "execution_count": 291,
   "metadata": {},
   "outputs": [],
   "source": [
    "from IPython.display import Image"
   ]
  },
  {
   "cell_type": "code",
   "execution_count": 292,
   "metadata": {},
   "outputs": [
    {
     "data": {
      "image/jpeg": "[encoded data removed]",
      "text/plain": [
       "<IPython.core.display.Image object>"
      ]
     },
     "execution_count": 292,
     "metadata": {},
     "output_type": "execute_result"
    }
   ],
   "source": [
    "Image(filename ='wcrussia.jpg')"
   ]
  },
  {
   "cell_type": "markdown",
   "metadata": {},
   "source": [
    "### Preprocessing"
   ]
  },
  {
   "cell_type": "code",
   "execution_count": 293,
   "metadata": {},
   "outputs": [
    {
     "name": "stdout",
     "output_type": "stream",
     "text": [
      "C:\\Users\\hanbum\\Desktop\\2018\\work\\2. Project\\3. Personal\\worldcup18\n"
     ]
    },
    {
     "data": {
      "text/plain": [
       "'C:\\\\Users\\\\hanbum\\\\Desktop\\\\2018\\\\work\\\\2. Project\\\\3. Personal\\\\worldcup18'"
      ]
     },
     "execution_count": 293,
     "metadata": {},
     "output_type": "execute_result"
    }
   ],
   "source": [
    "%cd C:\\Users\\hanbum\\Desktop\\2018\\work\\2. Project\\3. Personal\\worldcup18\n",
    "%pwd"
   ]
  },
  {
   "cell_type": "code",
   "execution_count": 426,
   "metadata": {},
   "outputs": [],
   "source": [
    "import numpy as np\n",
    "import pandas as pd\n",
    "import seaborn as sns\n",
    "from matplotlib import pyplot as plt\n",
    "\n",
    "%matplotlib inline"
   ]
  },
  {
   "cell_type": "code",
   "execution_count": 376,
   "metadata": {},
   "outputs": [],
   "source": [
    "# load data\n",
    "\n",
    "rankings = pd.read_csv('fifa_ranking.csv', encoding ='utf-8')\n",
    "matches = pd.read_csv('results.csv')\n",
    "fifa18 = pd.read_csv('World Cup 2018 Dataset.csv', encoding = 'utf-8')"
   ]
  },
  {
   "cell_type": "code",
   "execution_count": 296,
   "metadata": {},
   "outputs": [
    {
     "name": "stdout",
     "output_type": "stream",
     "text": [
      "Index(['rank', 'country_full', 'country_abrv', 'total_points',\n",
      "       'previous_points', 'rank_change', 'cur_year_avg',\n",
      "       'cur_year_avg_weighted', 'last_year_avg', 'last_year_avg_weighted',\n",
      "       'two_year_ago_avg', 'two_year_ago_weighted', 'three_year_ago_avg',\n",
      "       'three_year_ago_weighted', 'confederation', 'rank_date'],\n",
      "      dtype='object')\n"
     ]
    }
   ],
   "source": [
    "# 필요한 column만 선택 \n",
    "print(rankings.columns)\n",
    "rankings2 = rankings.copy()\n",
    "\n",
    "rankings2 = rankings2.iloc[:,np.r_[0:3,7,11,13,15]]"
   ]
  },
  {
   "cell_type": "code",
   "execution_count": 302,
   "metadata": {},
   "outputs": [],
   "source": [
    "# Iran 풀네임 바꿔주기\n",
    "\n",
    "rankings2[rankings2.country_full == 'IR Iran']\n",
    "rankings2 = rankings2.replace({'IR Iran' :'Iran'})"
   ]
  },
  {
   "cell_type": "code",
   "execution_count": 306,
   "metadata": {},
   "outputs": [],
   "source": [
    "# weighted 파생변수 만들기\n",
    "\n",
    "rankings2['weighted_points'] = rankings2['cur_year_avg_weighted']+rankings2['two_year_ago_weighted']+rankings2['three_year_ago_weighted']"
   ]
  },
  {
   "cell_type": "code",
   "execution_count": 307,
   "metadata": {},
   "outputs": [],
   "source": [
    "# date형으로 type 변환\n",
    "\n",
    "rankings2['rank_date'] = pd.to_datetime(rankings2['rank_date'])"
   ]
  },
  {
   "cell_type": "code",
   "execution_count": 377,
   "metadata": {},
   "outputs": [
    {
     "data": {
      "text/html": [
       "<div>\n",
       "<style>\n",
       "    .dataframe thead tr:only-child th {\n",
       "        text-align: right;\n",
       "    }\n",
       "\n",
       "    .dataframe thead th {\n",
       "        text-align: left;\n",
       "    }\n",
       "\n",
       "    .dataframe tbody tr th {\n",
       "        vertical-align: top;\n",
       "    }\n",
       "</style>\n",
       "<table border=\"1\" class=\"dataframe\">\n",
       "  <thead>\n",
       "    <tr style=\"text-align: right;\">\n",
       "      <th></th>\n",
       "      <th>date</th>\n",
       "      <th>home_team</th>\n",
       "      <th>away_team</th>\n",
       "      <th>home_score</th>\n",
       "      <th>away_score</th>\n",
       "      <th>tournament</th>\n",
       "      <th>city</th>\n",
       "      <th>country</th>\n",
       "      <th>neutral</th>\n",
       "    </tr>\n",
       "  </thead>\n",
       "  <tbody>\n",
       "    <tr>\n",
       "      <th>0</th>\n",
       "      <td>1872-11-30</td>\n",
       "      <td>Scotland</td>\n",
       "      <td>England</td>\n",
       "      <td>0</td>\n",
       "      <td>0</td>\n",
       "      <td>Friendly</td>\n",
       "      <td>Glasgow</td>\n",
       "      <td>Scotland</td>\n",
       "      <td>False</td>\n",
       "    </tr>\n",
       "    <tr>\n",
       "      <th>1</th>\n",
       "      <td>1873-03-08</td>\n",
       "      <td>England</td>\n",
       "      <td>Scotland</td>\n",
       "      <td>4</td>\n",
       "      <td>2</td>\n",
       "      <td>Friendly</td>\n",
       "      <td>London</td>\n",
       "      <td>England</td>\n",
       "      <td>False</td>\n",
       "    </tr>\n",
       "    <tr>\n",
       "      <th>2</th>\n",
       "      <td>1874-03-07</td>\n",
       "      <td>Scotland</td>\n",
       "      <td>England</td>\n",
       "      <td>2</td>\n",
       "      <td>1</td>\n",
       "      <td>Friendly</td>\n",
       "      <td>Glasgow</td>\n",
       "      <td>Scotland</td>\n",
       "      <td>False</td>\n",
       "    </tr>\n",
       "    <tr>\n",
       "      <th>3</th>\n",
       "      <td>1875-03-06</td>\n",
       "      <td>England</td>\n",
       "      <td>Scotland</td>\n",
       "      <td>2</td>\n",
       "      <td>2</td>\n",
       "      <td>Friendly</td>\n",
       "      <td>London</td>\n",
       "      <td>England</td>\n",
       "      <td>False</td>\n",
       "    </tr>\n",
       "    <tr>\n",
       "      <th>4</th>\n",
       "      <td>1876-03-04</td>\n",
       "      <td>Scotland</td>\n",
       "      <td>England</td>\n",
       "      <td>3</td>\n",
       "      <td>0</td>\n",
       "      <td>Friendly</td>\n",
       "      <td>Glasgow</td>\n",
       "      <td>Scotland</td>\n",
       "      <td>False</td>\n",
       "    </tr>\n",
       "  </tbody>\n",
       "</table>\n",
       "</div>"
      ],
      "text/plain": [
       "         date home_team away_team  home_score  away_score tournament     city  \\\n",
       "0  1872-11-30  Scotland   England           0           0   Friendly  Glasgow   \n",
       "1  1873-03-08   England  Scotland           4           2   Friendly   London   \n",
       "2  1874-03-07  Scotland   England           2           1   Friendly  Glasgow   \n",
       "3  1875-03-06   England  Scotland           2           2   Friendly   London   \n",
       "4  1876-03-04  Scotland   England           3           0   Friendly  Glasgow   \n",
       "\n",
       "    country  neutral  \n",
       "0  Scotland    False  \n",
       "1   England    False  \n",
       "2  Scotland    False  \n",
       "3   England    False  \n",
       "4  Scotland    False  "
      ]
     },
     "execution_count": 377,
     "metadata": {},
     "output_type": "execute_result"
    }
   ],
   "source": [
    "matches.head()"
   ]
  },
  {
   "cell_type": "code",
   "execution_count": 378,
   "metadata": {},
   "outputs": [],
   "source": [
    "# 나라명 통일 해주기\n",
    "\n",
    "matches2 = matches.copy()\n",
    "matches2 = matches2.replace({'Germany DR':'Germany', 'China':'China PR'})"
   ]
  },
  {
   "cell_type": "code",
   "execution_count": 379,
   "metadata": {},
   "outputs": [],
   "source": [
    "# date형으로 type 변환\n",
    "\n",
    "matches2['date'] = pd.to_datetime(matches2['date'])"
   ]
  },
  {
   "cell_type": "code",
   "execution_count": 353,
   "metadata": {},
   "outputs": [],
   "source": [
    "fifa182 = fifa18.copy()"
   ]
  },
  {
   "cell_type": "code",
   "execution_count": 354,
   "metadata": {},
   "outputs": [],
   "source": [
    "fifa182 = fifa182.loc[:,['Team', 'Group', 'First match \\nagainst', 'Second match\\n against', 'Third match\\n against']]"
   ]
  },
  {
   "cell_type": "code",
   "execution_count": 355,
   "metadata": {},
   "outputs": [
    {
     "data": {
      "text/plain": [
       "Team                      1\n",
       "Group                     1\n",
       "First match \\nagainst     1\n",
       "Second match\\n against    1\n",
       "Third match\\n against     1\n",
       "dtype: int64"
      ]
     },
     "execution_count": 355,
     "metadata": {},
     "output_type": "execute_result"
    }
   ],
   "source": [
    "#missing value 있는 칼럼합 출력\n",
    "\n",
    "fifa182.isnull().sum()"
   ]
  },
  {
   "cell_type": "code",
   "execution_count": 356,
   "metadata": {},
   "outputs": [
    {
     "data": {
      "text/html": [
       "<div>\n",
       "<style>\n",
       "    .dataframe thead tr:only-child th {\n",
       "        text-align: right;\n",
       "    }\n",
       "\n",
       "    .dataframe thead th {\n",
       "        text-align: left;\n",
       "    }\n",
       "\n",
       "    .dataframe tbody tr th {\n",
       "        vertical-align: top;\n",
       "    }\n",
       "</style>\n",
       "<table border=\"1\" class=\"dataframe\">\n",
       "  <thead>\n",
       "    <tr style=\"text-align: right;\">\n",
       "      <th></th>\n",
       "      <th>Team</th>\n",
       "      <th>Group</th>\n",
       "      <th>First match \n",
       "against</th>\n",
       "      <th>Second match\n",
       " against</th>\n",
       "      <th>Third match\n",
       " against</th>\n",
       "    </tr>\n",
       "  </thead>\n",
       "  <tbody>\n",
       "    <tr>\n",
       "      <th>32</th>\n",
       "      <td>NaN</td>\n",
       "      <td>NaN</td>\n",
       "      <td>NaN</td>\n",
       "      <td>NaN</td>\n",
       "      <td>NaN</td>\n",
       "    </tr>\n",
       "  </tbody>\n",
       "</table>\n",
       "</div>"
      ],
      "text/plain": [
       "   Team Group First match \\nagainst Second match\\n against  \\\n",
       "32  NaN   NaN                   NaN                    NaN   \n",
       "\n",
       "   Third match\\n against  \n",
       "32                   NaN  "
      ]
     },
     "execution_count": 356,
     "metadata": {},
     "output_type": "execute_result"
    }
   ],
   "source": [
    "#missing value 있는 rows만 출력\n",
    "fifa182[fifa182.isnull().any(axis=1)]"
   ]
  },
  {
   "cell_type": "code",
   "execution_count": 357,
   "metadata": {},
   "outputs": [],
   "source": [
    "# missing value 있는 행 삭제\n",
    "\n",
    "fifa182 = fifa182.dropna(how='all')"
   ]
  },
  {
   "cell_type": "code",
   "execution_count": 358,
   "metadata": {},
   "outputs": [],
   "source": [
    "fifa182 = fifa182.replace({\"IRAN\": \"Iran\", \n",
    "                               \"Costarica\": \"Costa Rica\", \n",
    "                               \"Porugal\": \"Portugal\", \n",
    "                               \"Columbia\": \"Colombia\", \n",
    "                               \"Korea\" : \"Korea Republic\"})"
   ]
  },
  {
   "cell_type": "code",
   "execution_count": 363,
   "metadata": {},
   "outputs": [],
   "source": [
    "fifa182 = fifa182.set_index('Team')"
   ]
  },
  {
   "cell_type": "code",
   "execution_count": 364,
   "metadata": {},
   "outputs": [
    {
     "data": {
      "text/html": [
       "<div>\n",
       "<style>\n",
       "    .dataframe thead tr:only-child th {\n",
       "        text-align: right;\n",
       "    }\n",
       "\n",
       "    .dataframe thead th {\n",
       "        text-align: left;\n",
       "    }\n",
       "\n",
       "    .dataframe tbody tr th {\n",
       "        vertical-align: top;\n",
       "    }\n",
       "</style>\n",
       "<table border=\"1\" class=\"dataframe\">\n",
       "  <thead>\n",
       "    <tr style=\"text-align: right;\">\n",
       "      <th></th>\n",
       "      <th>Group</th>\n",
       "      <th>First match \n",
       "against</th>\n",
       "      <th>Second match\n",
       " against</th>\n",
       "      <th>Third match\n",
       " against</th>\n",
       "    </tr>\n",
       "    <tr>\n",
       "      <th>Team</th>\n",
       "      <th></th>\n",
       "      <th></th>\n",
       "      <th></th>\n",
       "      <th></th>\n",
       "    </tr>\n",
       "  </thead>\n",
       "  <tbody>\n",
       "    <tr>\n",
       "      <th>Russia</th>\n",
       "      <td>A</td>\n",
       "      <td>Saudi Arabia</td>\n",
       "      <td>Egypt</td>\n",
       "      <td>Uruguay</td>\n",
       "    </tr>\n",
       "    <tr>\n",
       "      <th>Saudi Arabia</th>\n",
       "      <td>A</td>\n",
       "      <td>Russia</td>\n",
       "      <td>Uruguay</td>\n",
       "      <td>Egypt</td>\n",
       "    </tr>\n",
       "    <tr>\n",
       "      <th>Egypt</th>\n",
       "      <td>A</td>\n",
       "      <td>Uruguay</td>\n",
       "      <td>Russia</td>\n",
       "      <td>Saudi Arabia</td>\n",
       "    </tr>\n",
       "    <tr>\n",
       "      <th>Uruguay</th>\n",
       "      <td>A</td>\n",
       "      <td>Egypt</td>\n",
       "      <td>Saudi Arabia</td>\n",
       "      <td>Russia</td>\n",
       "    </tr>\n",
       "    <tr>\n",
       "      <th>Portugal</th>\n",
       "      <td>B</td>\n",
       "      <td>Spain</td>\n",
       "      <td>Morocco</td>\n",
       "      <td>Iran</td>\n",
       "    </tr>\n",
       "  </tbody>\n",
       "</table>\n",
       "</div>"
      ],
      "text/plain": [
       "             Group First match \\nagainst Second match\\n against  \\\n",
       "Team                                                              \n",
       "Russia           A          Saudi Arabia                  Egypt   \n",
       "Saudi Arabia     A                Russia                Uruguay   \n",
       "Egypt            A               Uruguay                 Russia   \n",
       "Uruguay          A                 Egypt           Saudi Arabia   \n",
       "Portugal         B                 Spain                Morocco   \n",
       "\n",
       "             Third match\\n against  \n",
       "Team                                \n",
       "Russia                     Uruguay  \n",
       "Saudi Arabia                 Egypt  \n",
       "Egypt                 Saudi Arabia  \n",
       "Uruguay                     Russia  \n",
       "Portugal                      Iran  "
      ]
     },
     "execution_count": 364,
     "metadata": {},
     "output_type": "execute_result"
    }
   ],
   "source": [
    "fifa182.head()"
   ]
  },
  {
   "cell_type": "code",
   "execution_count": 366,
   "metadata": {},
   "outputs": [],
   "source": [
    "# I want to have the ranks for every day \n",
    "rankings2 = rankings2.set_index(['rank_date'])\\\n",
    "            .groupby(['country_full'], group_keys=False)\\\n",
    "            .resample('D').first()\\\n",
    "            .fillna(method='ffill')\\\n",
    "            .reset_index()"
   ]
  },
  {
   "cell_type": "code",
   "execution_count": 380,
   "metadata": {},
   "outputs": [],
   "source": [
    "# join the ranks\n",
    "matches2 = matches2.merge(rankings2, \n",
    "                        left_on=['date', 'home_team'], \n",
    "                        right_on=['rank_date', 'country_full'])\n",
    "\n",
    "matches2 = matches2.merge(rankings2, \n",
    "                        left_on=['date', 'away_team'], \n",
    "                        right_on=['rank_date', 'country_full'], \n",
    "                        suffixes=('_home', '_away'))"
   ]
  },
  {
   "cell_type": "code",
   "execution_count": 388,
   "metadata": {},
   "outputs": [],
   "source": [
    "# feature generation\n",
    "matches2['rank_difference'] = matches2['rank_home'] - matches2['rank_away']\n",
    "\n",
    "matches2['average_rank'] = (matches2['rank_home'] + matches2['rank_away'])/2\n",
    "\n",
    "matches2['point_difference'] = matches2['weighted_points_home'] - matches2['weighted_points_away']\n",
    "\n",
    "matches2['score_difference'] = matches2['home_score'] - matches2['away_score']\n",
    "\n",
    "matches2['is_won'] = matches2['score_difference'] > 0 # take draw as lost\n",
    "\n",
    "matches2['is_stake'] = matches2['tournament'] != 'Friendly'"
   ]
  },
  {
   "cell_type": "code",
   "execution_count": 392,
   "metadata": {},
   "outputs": [],
   "source": [
    "# I tried earlier rest days but it did not turn to be useful\n",
    "max_rest = 30\n",
    "matches2['rest_days'] = matches2.groupby('home_team').diff()['date'].dt.days.clip(0,max_rest).fillna(max_rest)\n",
    "\n",
    "# I tried earlier the team as well but that did not make a difference either\n",
    "matches2['wc_participant'] = matches2['home_team'] * matches2['home_team'].isin(fifa182.index.tolist())\n",
    "\n",
    "matches2['wc_participant'] = matches2['wc_participant'].replace({'':'Other'})\n",
    "\n",
    "matches = matches.join(pd.get_dummies(matches2['wc_participant']))"
   ]
  },
  {
   "cell_type": "markdown",
   "metadata": {},
   "source": [
    "# Modeling"
   ]
  },
  {
   "cell_type": "code",
   "execution_count": 393,
   "metadata": {},
   "outputs": [],
   "source": [
    "from sklearn import linear_model\n",
    "from sklearn import ensemble\n",
    "from sklearn.model_selection import train_test_split\n",
    "from sklearn.metrics import confusion_matrix, roc_curve, roc_auc_score\n",
    "from sklearn.pipeline import Pipeline\n",
    "from sklearn.preprocessing import PolynomialFeatures"
   ]
  },
  {
   "cell_type": "code",
   "execution_count": 403,
   "metadata": {},
   "outputs": [],
   "source": [
    "X, y = matches2.loc[:,['average_rank', 'rank_difference', 'point_difference', 'is_stake']], matches2['is_won']\n",
    "X_train, X_test, y_train, y_test = train_test_split(\n",
    "    X, y, test_size=0.2, random_state=42)\n",
    "\n",
    "logreg = linear_model.LogisticRegression(C=1e-5)\n",
    "features = PolynomialFeatures(degree=2)\n",
    "\n",
    "model = Pipeline([\n",
    "    ('polynomial_features', features),\n",
    "    ('logistic_regression', logreg)\n",
    "])\n",
    "\n",
    "model = model.fit(X_train, y_train)"
   ]
  },
  {
   "cell_type": "code",
   "execution_count": 427,
   "metadata": {},
   "outputs": [
    {
     "data": {
      "image/png": "[encoded data removed]",
      "text/plain": [
       "<matplotlib.figure.Figure at 0x2493f8d50b8>"
      ]
     },
     "metadata": {},
     "output_type": "display_data"
    }
   ],
   "source": [
    "# figures \n",
    "fpr, tpr, _ = roc_curve(y_test, model.predict_proba(X_test)[:,1])\n",
    "plt.figure(figsize=(15,5))\n",
    "ax = plt.subplot(1,3,1)\n",
    "ax.plot([0, 1], [0, 1], 'k--')\n",
    "ax.plot(fpr, tpr)\n",
    "ax.set_title('AUC score is {0:0.2}'.format(roc_auc_score(y_test, model.predict_proba(X_test)[:,1])))\n",
    "ax.set_aspect(1)\n",
    "\n",
    "ax = plt.subplot(1,3,2)\n",
    "cm = confusion_matrix(y_test, model.predict(X_test))\n",
    "ax.imshow(cm, cmap='Blues', clim = (0, cm.max())) \n",
    "\n",
    "ax.set_xlabel('Predicted label')\n",
    "ax.set_title('Performance on the Test set')\n",
    "\n",
    "ax = plt.subplot(1,3,3)\n",
    "cm = confusion_matrix(y_train, model.predict(X_train))\n",
    "ax.imshow(cm, cmap='Blues', clim = (0, cm.max())) \n",
    "ax.set_xlabel('Predicted label')\n",
    "ax.set_title('Performance on the Training set')\n",
    "pass"
   ]
  },
  {
   "cell_type": "code",
   "execution_count": 428,
   "metadata": {},
   "outputs": [
    {
     "name": "stdout",
     "output_type": "stream",
     "text": [
      "Stakes distribution in the wrong predictions\n",
      "True     0.578231\n",
      "False    0.421769\n",
      "Name: is_stake, dtype: float64\n",
      "Stakes distribution overall\n",
      "True     0.615618\n",
      "False    0.384382\n",
      "Name: is_stake, dtype: float64\n"
     ]
    },
    {
     "data": {
      "image/png": "[encoded data removed]",
      "text/plain": [
       "<matplotlib.figure.Figure at 0x2493f8d5a20>"
      ]
     },
     "metadata": {},
     "output_type": "display_data"
    },
    {
     "data": {
      "image/png": "[encoded data removed]",
      "text/plain": [
       "<matplotlib.figure.Figure at 0x249406a5dd8>"
      ]
     },
     "metadata": {},
     "output_type": "display_data"
    },
    {
     "data": {
      "image/png": "[encoded data removed]",
      "text/plain": [
       "<matplotlib.figure.Figure at 0x249406bba20>"
      ]
     },
     "metadata": {},
     "output_type": "display_data"
    }
   ],
   "source": [
    "features = ['average_rank', 'rank_difference', 'point_difference']\n",
    "wrongs = y_test != model.predict(X_test)\n",
    "\n",
    "for feature in features:\n",
    "    plt.figure()\n",
    "    plt.title(feature)\n",
    "    X_test.loc[wrongs, feature].plot.kde()\n",
    "    X.loc[:, feature].plot.kde()\n",
    "    plt.legend(['wrongs', 'all'])\n",
    "    \n",
    "print(\"Stakes distribution in the wrong predictions\")\n",
    "print(X_test.loc[wrongs, 'is_stake'].value_counts() / wrongs.sum())\n",
    "print(\"Stakes distribution overall\")\n",
    "print(X['is_stake'].value_counts() / X.shape[0])"
   ]
  },
  {
   "cell_type": "markdown",
   "metadata": {},
   "source": [
    "### worldcup prediction"
   ]
  },
  {
   "cell_type": "code",
   "execution_count": 430,
   "metadata": {},
   "outputs": [],
   "source": [
    "# let's define a small margin when we safer to predict draw then win\n",
    "margin = 0.05\n",
    "\n",
    "# let's define the rankings at the time of the World Cup\n",
    "world_cup_rankings = rankings2.loc[(rankings2['rank_date'] == rankings2['rank_date'].max()) & \n",
    "                                    rankings2['country_full'].isin(fifa182.index.unique())]\n",
    "world_cup_rankings = world_cup_rankings.set_index(['country_full'])"
   ]
  },
  {
   "cell_type": "code",
   "execution_count": 433,
   "metadata": {},
   "outputs": [
    {
     "name": "stdout",
     "output_type": "stream",
     "text": [
      "___Starting group A:___\n",
      "Russia vs. Saudi Arabia: Saudi Arabia wins with 0.55\n",
      "Russia vs. Egypt: Egypt wins with 0.66\n",
      "Russia vs. Uruguay: Uruguay wins with 0.83\n",
      "Saudi Arabia vs. Egypt: Egypt wins with 0.65\n",
      "Saudi Arabia vs. Uruguay: Uruguay wins with 0.83\n",
      "Egypt vs. Uruguay: Uruguay wins with 0.74\n",
      "___Starting group E:___\n",
      "Brazil vs. Switzerland: Draw\n",
      "Brazil vs. Costa Rica: Brazil wins with 0.62\n",
      "Brazil vs. Serbia: Brazil wins with 0.67\n",
      "Switzerland vs. Costa Rica: Switzerland wins with 0.59\n",
      "Switzerland vs. Serbia: Switzerland wins with 0.65\n",
      "Costa Rica vs. Serbia: Draw\n",
      "___Starting group D:___\n",
      "Argentina vs. Iceland: Argentina wins with 0.60\n",
      "Argentina vs. Croatia: Argentina wins with 0.59\n",
      "Argentina vs. Nigeria: Argentina wins with 0.70\n",
      "Iceland vs. Croatia: Draw\n",
      "Iceland vs. Nigeria: Iceland wins with 0.62\n",
      "Croatia vs. Nigeria: Croatia wins with 0.63\n",
      "___Starting group B:___\n",
      "Portugal vs. Spain: Draw\n",
      "Portugal vs. Morocco: Portugal wins with 0.68\n",
      "Portugal vs. Iran: Portugal wins with 0.67\n",
      "Spain vs. Morocco: Spain wins with 0.65\n",
      "Spain vs. Iran: Spain wins with 0.64\n",
      "Morocco vs. Iran: Draw\n",
      "___Starting group C:___\n",
      "France vs. Australia: France wins with 0.65\n",
      "France vs. Peru: Draw\n",
      "France vs. Denmark: Draw\n",
      "Australia vs. Peru: Peru wins with 0.67\n",
      "Australia vs. Denmark: Denmark wins with 0.70\n",
      "Peru vs. Denmark: Draw\n",
      "___Starting group G:___\n",
      "Belgium vs. Panama: Belgium wins with 0.73\n",
      "Belgium vs. Tunisia: Belgium wins with 0.61\n",
      "Belgium vs. England: Belgium wins with 0.57\n",
      "Panama vs. Tunisia: Tunisia wins with 0.73\n",
      "Panama vs. England: England wins with 0.77\n",
      "Tunisia vs. England: England wins with 0.57\n",
      "___Starting group H:___\n",
      "Poland vs. Senegal: Poland wins with 0.60\n",
      "Poland vs. Colombia: Draw\n",
      "Poland vs. Japan: Poland wins with 0.73\n",
      "Senegal vs. Colombia: Colombia wins with 0.59\n",
      "Senegal vs. Japan: Senegal wins with 0.65\n",
      "Colombia vs. Japan: Colombia wins with 0.70\n",
      "___Starting group F:___\n",
      "Germany vs. Mexico: Germany wins with 0.60\n",
      "Germany vs. Sweden: Germany wins with 0.63\n",
      "Germany vs. Korea Republic: Germany wins with 0.71\n",
      "Mexico vs. Sweden: Draw\n",
      "Mexico vs. Korea Republic: Mexico wins with 0.68\n",
      "Sweden vs. Korea Republic: Sweden wins with 0.64\n"
     ]
    }
   ],
   "source": [
    "from itertools import combinations\n",
    "\n",
    "opponents = ['First match \\nagainst', 'Second match\\n against', 'Third match\\n against']\n",
    "\n",
    "fifa182['points'] = 0\n",
    "fifa182['total_prob'] = 0\n",
    "\n",
    "for group in set(fifa182['Group']):\n",
    "    print('___Starting group {}:___'.format(group))\n",
    "    for home, away in combinations(fifa182.query('Group == \"{}\"'.format(group)).index, 2):\n",
    "        print(\"{} vs. {}: \".format(home, away), end='')\n",
    "        row = pd.DataFrame(np.array([[np.nan, np.nan, np.nan, True]]), columns=X_test.columns)\n",
    "        home_rank = world_cup_rankings.loc[home, 'rank']\n",
    "        home_points = world_cup_rankings.loc[home, 'weighted_points']\n",
    "        opp_rank = world_cup_rankings.loc[away, 'rank']\n",
    "        opp_points = world_cup_rankings.loc[away, 'weighted_points']\n",
    "        row['average_rank'] = (home_rank + opp_rank) / 2\n",
    "        row['rank_difference'] = home_rank - opp_rank\n",
    "        row['point_difference'] = home_points - opp_points\n",
    "        \n",
    "        home_win_prob = model.predict_proba(row)[:,1][0]\n",
    "        fifa182.loc[home, 'total_prob'] += home_win_prob\n",
    "        fifa182.loc[away, 'total_prob'] += 1-home_win_prob\n",
    "        points = 0\n",
    "        if home_win_prob <= 0.5 - margin:\n",
    "            print(\"{} wins with {:.2f}\".format(away, 1-home_win_prob))\n",
    "            fifa182.loc[away, 'points'] += 3\n",
    "        if home_win_prob > 0.5 - margin:\n",
    "            points = 1\n",
    "        if home_win_prob >= 0.5 + margin:\n",
    "            points = 3\n",
    "            fifa182.loc[home, 'points'] += 3\n",
    "            print(\"{} wins with {:.2f}\".format(home, home_win_prob))\n",
    "        if points == 1:\n",
    "            print(\"Draw\")\n",
    "            fifa182.loc[home, 'points'] += 1\n",
    "            fifa182.loc[away, 'points'] += 1"
   ]
  },
  {
   "cell_type": "code",
   "execution_count": 434,
   "metadata": {},
   "outputs": [
    {
     "name": "stdout",
     "output_type": "stream",
     "text": [
      "___Starting of the round_of_16___\n",
      "Uruguay vs. Spain: Spain wins with probability 0.54\n",
      "Denmark vs. Croatia: Denmark wins with probability 0.55\n",
      "Brazil vs. Mexico: Brazil wins with probability 0.58\n",
      "Belgium vs. Colombia: Belgium wins with probability 0.59\n",
      "Egypt vs. Portugal: Portugal wins with probability 0.81\n",
      "France vs. Argentina: Argentina wins with probability 0.53\n",
      "Switzerland vs. Germany: Germany wins with probability 0.60\n",
      "England vs. Poland: Poland wins with probability 0.53\n",
      "\n",
      "\n",
      "___Starting of the quarterfinal___\n",
      "Spain vs. Denmark: Denmark wins with probability 0.51\n",
      "Brazil vs. Belgium: Belgium wins with probability 0.51\n",
      "Portugal vs. Argentina: Portugal wins with probability 0.51\n",
      "Germany vs. Poland: Germany wins with probability 0.57\n",
      "\n",
      "\n",
      "___Starting of the semifinal___\n",
      "Denmark vs. Belgium: Belgium wins with probability 0.57\n",
      "Portugal vs. Germany: Germany wins with probability 0.56\n",
      "\n",
      "\n",
      "___Starting of the final___\n",
      "Belgium vs. Germany: Germany wins with probability 0.54\n",
      "\n",
      "\n"
     ]
    }
   ],
   "source": [
    "pairing = [0,3,4,7,8,11,12,15,1,2,5,6,9,10,13,14]\n",
    "\n",
    "world_cup = fifa182.sort_values(by=['Group', 'points', 'total_prob'], ascending=False).reset_index()\n",
    "next_round_wc = world_cup.groupby('Group').nth([0, 1]) # select the top 2\n",
    "next_round_wc = next_round_wc.reset_index()\n",
    "next_round_wc = next_round_wc.loc[pairing]\n",
    "next_round_wc = next_round_wc.set_index('Team')\n",
    "\n",
    "finals = ['round_of_16', 'quarterfinal', 'semifinal', 'final']\n",
    "\n",
    "labels = list()\n",
    "odds = list()\n",
    "\n",
    "for f in finals:\n",
    "    print(\"___Starting of the {}___\".format(f))\n",
    "    iterations = int(len(next_round_wc) / 2)\n",
    "    winners = []\n",
    "\n",
    "    for i in range(iterations):\n",
    "        home = next_round_wc.index[i*2]\n",
    "        away = next_round_wc.index[i*2+1]\n",
    "        print(\"{} vs. {}: \".format(home,\n",
    "                                   away), \n",
    "                                   end='')\n",
    "        row = pd.DataFrame(np.array([[np.nan, np.nan, np.nan, True]]), columns=X_test.columns)\n",
    "        home_rank = world_cup_rankings.loc[home, 'rank']\n",
    "        home_points = world_cup_rankings.loc[home, 'weighted_points']\n",
    "        opp_rank = world_cup_rankings.loc[away, 'rank']\n",
    "        opp_points = world_cup_rankings.loc[away, 'weighted_points']\n",
    "        row['average_rank'] = (home_rank + opp_rank) / 2\n",
    "        row['rank_difference'] = home_rank - opp_rank\n",
    "        row['point_difference'] = home_points - opp_points\n",
    "        \n",
    "        home_win_prob = model.predict_proba(row)[:,1][0]\n",
    "        if model.predict_proba(row)[:,1] <= 0.5:\n",
    "            print(\"{0} wins with probability {1:.2f}\".format(away, 1-home_win_prob))\n",
    "            winners.append(away)\n",
    "        else:\n",
    "            print(\"{0} wins with probability {1:.2f}\".format(home, home_win_prob))\n",
    "            winners.append(home)\n",
    "\n",
    "        labels.append(\"{}({:.2f}) vs. {}({:.2f})\".format(world_cup_rankings.loc[home, 'country_abrv'], \n",
    "                                                        1/home_win_prob, \n",
    "                                                        world_cup_rankings.loc[away, 'country_abrv'], \n",
    "                                                        1/(1-home_win_prob)))\n",
    "        odds.append([home_win_prob, 1-home_win_prob])\n",
    "                \n",
    "    next_round_wc = next_round_wc.loc[winners]\n",
    "    print(\"\\n\")"
   ]
  },
  {
   "cell_type": "code",
   "execution_count": 439,
   "metadata": {},
   "outputs": [
    {
     "ename": "FileNotFoundError",
     "evalue": "[WinError 2] \"twopi.exe\" not found in path.",
     "output_type": "error",
     "traceback": [
      "\u001b[1;31m---------------------------------------------------------------------------\u001b[0m",
      "\u001b[1;31mFileNotFoundError\u001b[0m                         Traceback (most recent call last)",
      "\u001b[1;32m~\\Anaconda3\\lib\\site-packages\\pydot.py\u001b[0m in \u001b[0;36mcreate\u001b[1;34m(self, prog, format, encoding)\u001b[0m\n\u001b[0;32m   1860\u001b[0m                 \u001b[0mshell\u001b[0m\u001b[1;33m=\u001b[0m\u001b[1;32mFalse\u001b[0m\u001b[1;33m,\u001b[0m\u001b[1;33m\u001b[0m\u001b[0m\n\u001b[1;32m-> 1861\u001b[1;33m                 stderr=subprocess.PIPE, stdout=subprocess.PIPE)\n\u001b[0m\u001b[0;32m   1862\u001b[0m         \u001b[1;32mexcept\u001b[0m \u001b[0mOSError\u001b[0m \u001b[1;32mas\u001b[0m \u001b[0me\u001b[0m\u001b[1;33m:\u001b[0m\u001b[1;33m\u001b[0m\u001b[0m\n",
      "\u001b[1;32m~\\Anaconda3\\lib\\subprocess.py\u001b[0m in \u001b[0;36m__init__\u001b[1;34m(self, args, bufsize, executable, stdin, stdout, stderr, preexec_fn, close_fds, shell, cwd, env, universal_newlines, startupinfo, creationflags, restore_signals, start_new_session, pass_fds, encoding, errors)\u001b[0m\n\u001b[0;32m    708\u001b[0m                                 \u001b[0merrread\u001b[0m\u001b[1;33m,\u001b[0m \u001b[0merrwrite\u001b[0m\u001b[1;33m,\u001b[0m\u001b[1;33m\u001b[0m\u001b[0m\n\u001b[1;32m--> 709\u001b[1;33m                                 restore_signals, start_new_session)\n\u001b[0m\u001b[0;32m    710\u001b[0m         \u001b[1;32mexcept\u001b[0m\u001b[1;33m:\u001b[0m\u001b[1;33m\u001b[0m\u001b[0m\n",
      "\u001b[1;32m~\\Anaconda3\\lib\\subprocess.py\u001b[0m in \u001b[0;36m_execute_child\u001b[1;34m(self, args, executable, preexec_fn, close_fds, pass_fds, cwd, env, startupinfo, creationflags, shell, p2cread, p2cwrite, c2pread, c2pwrite, errread, errwrite, unused_restore_signals, unused_start_new_session)\u001b[0m\n\u001b[0;32m    996\u001b[0m                                          \u001b[0mos\u001b[0m\u001b[1;33m.\u001b[0m\u001b[0mfspath\u001b[0m\u001b[1;33m(\u001b[0m\u001b[0mcwd\u001b[0m\u001b[1;33m)\u001b[0m \u001b[1;32mif\u001b[0m \u001b[0mcwd\u001b[0m \u001b[1;32mis\u001b[0m \u001b[1;32mnot\u001b[0m \u001b[1;32mNone\u001b[0m \u001b[1;32melse\u001b[0m \u001b[1;32mNone\u001b[0m\u001b[1;33m,\u001b[0m\u001b[1;33m\u001b[0m\u001b[0m\n\u001b[1;32m--> 997\u001b[1;33m                                          startupinfo)\n\u001b[0m\u001b[0;32m    998\u001b[0m             \u001b[1;32mfinally\u001b[0m\u001b[1;33m:\u001b[0m\u001b[1;33m\u001b[0m\u001b[0m\n",
      "\u001b[1;31mFileNotFoundError\u001b[0m: [WinError 2] 지정된 파일을 찾을 수 없습니다",
      "\nDuring handling of the above exception, another exception occurred:\n",
      "\u001b[1;31mFileNotFoundError\u001b[0m                         Traceback (most recent call last)",
      "\u001b[1;32m<ipython-input-439-2e5fa2a09f99>\u001b[0m in \u001b[0;36m<module>\u001b[1;34m()\u001b[0m\n\u001b[0;32m      6\u001b[0m \u001b[0mscale_factor\u001b[0m \u001b[1;33m=\u001b[0m \u001b[1;36m0.3\u001b[0m \u001b[1;31m# for visualization\u001b[0m\u001b[1;33m\u001b[0m\u001b[0m\n\u001b[0;32m      7\u001b[0m \u001b[0mG\u001b[0m \u001b[1;33m=\u001b[0m \u001b[0mnx\u001b[0m\u001b[1;33m.\u001b[0m\u001b[0mbalanced_tree\u001b[0m\u001b[1;33m(\u001b[0m\u001b[1;36m2\u001b[0m\u001b[1;33m,\u001b[0m \u001b[1;36m3\u001b[0m\u001b[1;33m)\u001b[0m\u001b[1;33m\u001b[0m\u001b[0m\n\u001b[1;32m----> 8\u001b[1;33m \u001b[0mpos\u001b[0m \u001b[1;33m=\u001b[0m \u001b[0mgraphviz_layout\u001b[0m\u001b[1;33m(\u001b[0m\u001b[0mG\u001b[0m\u001b[1;33m,\u001b[0m \u001b[0mprog\u001b[0m\u001b[1;33m=\u001b[0m\u001b[1;34m'twopi'\u001b[0m\u001b[1;33m,\u001b[0m \u001b[0margs\u001b[0m\u001b[1;33m=\u001b[0m\u001b[1;34m''\u001b[0m\u001b[1;33m)\u001b[0m\u001b[1;33m\u001b[0m\u001b[0m\n\u001b[0m\u001b[0;32m      9\u001b[0m \u001b[0mcentre\u001b[0m \u001b[1;33m=\u001b[0m \u001b[0mpd\u001b[0m\u001b[1;33m.\u001b[0m\u001b[0mDataFrame\u001b[0m\u001b[1;33m(\u001b[0m\u001b[0mpos\u001b[0m\u001b[1;33m)\u001b[0m\u001b[1;33m.\u001b[0m\u001b[0mmean\u001b[0m\u001b[1;33m(\u001b[0m\u001b[0maxis\u001b[0m\u001b[1;33m=\u001b[0m\u001b[1;36m1\u001b[0m\u001b[1;33m)\u001b[0m\u001b[1;33m.\u001b[0m\u001b[0mmean\u001b[0m\u001b[1;33m(\u001b[0m\u001b[1;33m)\u001b[0m\u001b[1;33m\u001b[0m\u001b[0m\n\u001b[0;32m     10\u001b[0m \u001b[1;33m\u001b[0m\u001b[0m\n",
      "\u001b[1;32m~\\Anaconda3\\lib\\site-packages\\networkx\\drawing\\nx_pydot.py\u001b[0m in \u001b[0;36mgraphviz_layout\u001b[1;34m(G, prog, root, **kwds)\u001b[0m\n\u001b[0;32m    258\u001b[0m     \u001b[0mThis\u001b[0m \u001b[1;32mis\u001b[0m \u001b[0ma\u001b[0m \u001b[0mwrapper\u001b[0m \u001b[1;32mfor\u001b[0m \u001b[0mpydot_layout\u001b[0m\u001b[1;33m.\u001b[0m\u001b[1;33m\u001b[0m\u001b[0m\n\u001b[0;32m    259\u001b[0m     \"\"\"\n\u001b[1;32m--> 260\u001b[1;33m     \u001b[1;32mreturn\u001b[0m \u001b[0mpydot_layout\u001b[0m\u001b[1;33m(\u001b[0m\u001b[0mG\u001b[0m\u001b[1;33m=\u001b[0m\u001b[0mG\u001b[0m\u001b[1;33m,\u001b[0m \u001b[0mprog\u001b[0m\u001b[1;33m=\u001b[0m\u001b[0mprog\u001b[0m\u001b[1;33m,\u001b[0m \u001b[0mroot\u001b[0m\u001b[1;33m=\u001b[0m\u001b[0mroot\u001b[0m\u001b[1;33m,\u001b[0m \u001b[1;33m**\u001b[0m\u001b[0mkwds\u001b[0m\u001b[1;33m)\u001b[0m\u001b[1;33m\u001b[0m\u001b[0m\n\u001b[0m\u001b[0;32m    261\u001b[0m \u001b[1;33m\u001b[0m\u001b[0m\n\u001b[0;32m    262\u001b[0m \u001b[1;33m\u001b[0m\u001b[0m\n",
      "\u001b[1;32m~\\Anaconda3\\lib\\site-packages\\networkx\\drawing\\nx_pydot.py\u001b[0m in \u001b[0;36mpydot_layout\u001b[1;34m(G, prog, root, **kwds)\u001b[0m\n\u001b[0;32m    294\u001b[0m     \u001b[1;31m# List of low-level bytes comprising a string in the dot language converted\u001b[0m\u001b[1;33m\u001b[0m\u001b[1;33m\u001b[0m\u001b[0m\n\u001b[0;32m    295\u001b[0m     \u001b[1;31m# from the passed graph with the passed external GraphViz command.\u001b[0m\u001b[1;33m\u001b[0m\u001b[1;33m\u001b[0m\u001b[0m\n\u001b[1;32m--> 296\u001b[1;33m     \u001b[0mD_bytes\u001b[0m \u001b[1;33m=\u001b[0m \u001b[0mP\u001b[0m\u001b[1;33m.\u001b[0m\u001b[0mcreate_dot\u001b[0m\u001b[1;33m(\u001b[0m\u001b[0mprog\u001b[0m\u001b[1;33m=\u001b[0m\u001b[0mprog\u001b[0m\u001b[1;33m)\u001b[0m\u001b[1;33m\u001b[0m\u001b[0m\n\u001b[0m\u001b[0;32m    297\u001b[0m \u001b[1;33m\u001b[0m\u001b[0m\n\u001b[0;32m    298\u001b[0m     \u001b[1;31m# Unique string decoded from these bytes with the preferred locale encoding.\u001b[0m\u001b[1;33m\u001b[0m\u001b[1;33m\u001b[0m\u001b[0m\n",
      "\u001b[1;32m~\\Anaconda3\\lib\\site-packages\\pydot.py\u001b[0m in \u001b[0;36mnew_method\u001b[1;34m(f, prog, encoding)\u001b[0m\n\u001b[0;32m   1660\u001b[0m                 \u001b[1;34m\"\"\"Refer to docstring of method `create`.\"\"\"\u001b[0m\u001b[1;33m\u001b[0m\u001b[0m\n\u001b[0;32m   1661\u001b[0m                 return self.create(\n\u001b[1;32m-> 1662\u001b[1;33m                     format=f, prog=prog, encoding=encoding)\n\u001b[0m\u001b[0;32m   1663\u001b[0m             \u001b[0mname\u001b[0m \u001b[1;33m=\u001b[0m \u001b[1;34m'create_{fmt}'\u001b[0m\u001b[1;33m.\u001b[0m\u001b[0mformat\u001b[0m\u001b[1;33m(\u001b[0m\u001b[0mfmt\u001b[0m\u001b[1;33m=\u001b[0m\u001b[0mfrmt\u001b[0m\u001b[1;33m)\u001b[0m\u001b[1;33m\u001b[0m\u001b[0m\n\u001b[0;32m   1664\u001b[0m             \u001b[0mself\u001b[0m\u001b[1;33m.\u001b[0m\u001b[0m__setattr__\u001b[0m\u001b[1;33m(\u001b[0m\u001b[0mname\u001b[0m\u001b[1;33m,\u001b[0m \u001b[0mnew_method\u001b[0m\u001b[1;33m)\u001b[0m\u001b[1;33m\u001b[0m\u001b[0m\n",
      "\u001b[1;32m~\\Anaconda3\\lib\\site-packages\\pydot.py\u001b[0m in \u001b[0;36mcreate\u001b[1;34m(self, prog, format, encoding)\u001b[0m\n\u001b[0;32m   1865\u001b[0m                 args[1] = '\"{prog}\" not found in path.'.format(\n\u001b[0;32m   1866\u001b[0m                     prog=prog)\n\u001b[1;32m-> 1867\u001b[1;33m                 \u001b[1;32mraise\u001b[0m \u001b[0mOSError\u001b[0m\u001b[1;33m(\u001b[0m\u001b[1;33m*\u001b[0m\u001b[0margs\u001b[0m\u001b[1;33m)\u001b[0m\u001b[1;33m\u001b[0m\u001b[0m\n\u001b[0m\u001b[0;32m   1868\u001b[0m             \u001b[1;32melse\u001b[0m\u001b[1;33m:\u001b[0m\u001b[1;33m\u001b[0m\u001b[0m\n\u001b[0;32m   1869\u001b[0m                 \u001b[1;32mraise\u001b[0m\u001b[1;33m\u001b[0m\u001b[0m\n",
      "\u001b[1;31mFileNotFoundError\u001b[0m: [WinError 2] \"twopi.exe\" not found in path."
     ]
    }
   ],
   "source": [
    "import networkx as nx\n",
    "import pydot\n",
    "from networkx.drawing.nx_pydot import graphviz_layout\n",
    "\n",
    "node_sizes = pd.DataFrame(list(reversed(odds)))\n",
    "scale_factor = 0.3 # for visualization\n",
    "G = nx.balanced_tree(2, 3)\n",
    "pos = graphviz_layout(G, prog='twopi', args='')\n",
    "centre = pd.DataFrame(pos).mean(axis=1).mean()\n",
    "\n",
    "plt.figure(figsize=(10, 10))\n",
    "ax = plt.subplot(1,1,1)\n",
    "# add circles \n",
    "circle_positions = [(235, 'black'), (180, 'blue'), (120, 'red'), (60, 'yellow')]\n",
    "[ax.add_artist(plt.Circle((centre, centre), \n",
    "                          cp, color='grey', \n",
    "                          alpha=0.2)) for cp, c in circle_positions]"
   ]
  },
  {
   "cell_type": "code",
   "execution_count": 1,
   "metadata": {},
   "outputs": [
    {
     "ename": "NameError",
     "evalue": "name 'nx' is not defined",
     "output_type": "error",
     "traceback": [
      "\u001b[1;31m---------------------------------------------------------------------------\u001b[0m",
      "\u001b[1;31mNameError\u001b[0m                                 Traceback (most recent call last)",
      "\u001b[1;32m<ipython-input-1-b41c73f1b375>\u001b[0m in \u001b[0;36m<module>\u001b[1;34m\u001b[0m\n\u001b[0;32m      1\u001b[0m \u001b[1;31m# draw first the graph\u001b[0m\u001b[1;33m\u001b[0m\u001b[1;33m\u001b[0m\u001b[1;33m\u001b[0m\u001b[0m\n\u001b[1;32m----> 2\u001b[1;33m nx.draw(G, pos, \n\u001b[0m\u001b[0;32m      3\u001b[0m         \u001b[0mnode_color\u001b[0m\u001b[1;33m=\u001b[0m\u001b[0mnode_sizes\u001b[0m\u001b[1;33m.\u001b[0m\u001b[0mdiff\u001b[0m\u001b[1;33m(\u001b[0m\u001b[0maxis\u001b[0m\u001b[1;33m=\u001b[0m\u001b[1;36m1\u001b[0m\u001b[1;33m)\u001b[0m\u001b[1;33m[\u001b[0m\u001b[1;36m1\u001b[0m\u001b[1;33m]\u001b[0m\u001b[1;33m.\u001b[0m\u001b[0mabs\u001b[0m\u001b[1;33m(\u001b[0m\u001b[1;33m)\u001b[0m\u001b[1;33m.\u001b[0m\u001b[0mpow\u001b[0m\u001b[1;33m(\u001b[0m\u001b[0mscale_factor\u001b[0m\u001b[1;33m)\u001b[0m\u001b[1;33m,\u001b[0m\u001b[1;33m\u001b[0m\u001b[1;33m\u001b[0m\u001b[0m\n\u001b[0;32m      4\u001b[0m         \u001b[0mnode_size\u001b[0m\u001b[1;33m=\u001b[0m\u001b[0mnode_sizes\u001b[0m\u001b[1;33m.\u001b[0m\u001b[0mdiff\u001b[0m\u001b[1;33m(\u001b[0m\u001b[0maxis\u001b[0m\u001b[1;33m=\u001b[0m\u001b[1;36m1\u001b[0m\u001b[1;33m)\u001b[0m\u001b[1;33m[\u001b[0m\u001b[1;36m1\u001b[0m\u001b[1;33m]\u001b[0m\u001b[1;33m.\u001b[0m\u001b[0mabs\u001b[0m\u001b[1;33m(\u001b[0m\u001b[1;33m)\u001b[0m\u001b[1;33m.\u001b[0m\u001b[0mpow\u001b[0m\u001b[1;33m(\u001b[0m\u001b[0mscale_factor\u001b[0m\u001b[1;33m)\u001b[0m\u001b[1;33m*\u001b[0m\u001b[1;36m2000\u001b[0m\u001b[1;33m,\u001b[0m\u001b[1;33m\u001b[0m\u001b[1;33m\u001b[0m\u001b[0m\n\u001b[0;32m      5\u001b[0m         \u001b[0malpha\u001b[0m\u001b[1;33m=\u001b[0m\u001b[1;36m1\u001b[0m\u001b[1;33m,\u001b[0m\u001b[1;33m\u001b[0m\u001b[1;33m\u001b[0m\u001b[0m\n",
      "\u001b[1;31mNameError\u001b[0m: name 'nx' is not defined"
     ]
    }
   ],
   "source": [
    "# draw first the graph\n",
    "nx.draw(G, pos, \n",
    "        node_color=node_sizes.diff(axis=1)[1].abs().pow(scale_factor), \n",
    "        node_size=node_sizes.diff(axis=1)[1].abs().pow(scale_factor)*2000, \n",
    "        alpha=1, \n",
    "        cmap='Reds',\n",
    "        edge_color='black',\n",
    "        width=10,\n",
    "        with_labels=False)\n",
    "\n",
    "# draw the custom node labels\n",
    "shifted_pos = {k:[(v[0]-centre)*0.9+centre,(v[1]-centre)*0.9+centre] for k,v in pos.items()}\n",
    "nx.draw_networkx_labels(G, \n",
    "                        pos=shifted_pos, \n",
    "                        bbox=dict(boxstyle=\"round,pad=0.3\", fc=\"white\", ec=\"black\", lw=.5, alpha=1),\n",
    "                        labels=dict(zip(reversed(range(len(labels))), labels)))\n",
    "\n",
    "texts = ((10, 'Best 16', 'black'), (70, 'Quarter-\\nfinal', 'blue'), (130, 'Semifinal', 'red'), (190, 'Final', 'yellow'))\n",
    "[plt.text(p, centre+20, t, \n",
    "          fontsize=12, color='grey', \n",
    "          va='center', ha='center') for p,t,c in texts]\n",
    "plt.axis('equal')\n",
    "plt.title('Single-elimination phase\\npredictions with fair odds', fontsize=20)\n",
    "plt.show()"
   ]
  },
  {
   "cell_type": "code",
   "execution_count": null,
   "metadata": {},
   "outputs": [],
   "source": [
    "# draw first the graph"
   ]
  }
 ],
 "metadata": {
  "kernelspec": {
   "display_name": "Python 3",
   "language": "python",
   "name": "python3"
  },
  "language_info": {
   "codemirror_mode": {
    "name": "ipython",
    "version": 3
   },
   "file_extension": ".py",
   "mimetype": "text/x-python",
   "name": "python",
   "nbconvert_exporter": "python",
   "pygments_lexer": "ipython3",
   "version": "3.7.3"
  }
 },
 "nbformat": 4,
 "nbformat_minor": 2
}
